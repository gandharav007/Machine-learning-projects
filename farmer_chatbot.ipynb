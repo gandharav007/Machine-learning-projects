{
 "cells": [
  {
   "cell_type": "code",
   "execution_count": 11,
   "metadata": {},
   "outputs": [
    {
     "name": "stderr",
     "output_type": "stream",
     "text": [
      "[nltk_data] Downloading package averaged_perceptron_tagger to\n",
      "[nltk_data]     C:\\Users\\GANDHARAV\\AppData\\Roaming\\nltk_data...\n",
      "[nltk_data]   Package averaged_perceptron_tagger is already up-to-\n",
      "[nltk_data]       date!\n",
      "[nltk_data] Downloading package stopwords to\n",
      "[nltk_data]     C:\\Users\\GANDHARAV\\AppData\\Roaming\\nltk_data...\n",
      "[nltk_data]   Package stopwords is already up-to-date!\n"
     ]
    }
   ],
   "source": [
    "from chatterbot import ChatBot\n",
    "cbot=ChatBot('smart farmer',logic_adapters=[{'import_path':'chatterbot.logic.BestMatch','statement_comparison_function':'chatterbot.comparisons.levenshtein_distance'},{'import_path':'chatterbot.logic.MYlogic_adp.MY_logic_adp'}])"
   ]
  },
  {
   "cell_type": "code",
   "execution_count": null,
   "metadata": {},
   "outputs": [],
   "source": [
    "from chatterbot.trainers import ChatterBotCorpusTrainer\n",
    "trainer=ChatterBotCorpusTrainer(cbot)\n",
    "trainer.train('chatterbot.corpus.english')"
   ]
  },
  {
   "cell_type": "code",
   "execution_count": 12,
   "metadata": {},
   "outputs": [
    {
     "name": "stdout",
     "output_type": "stream",
     "text": [
      "List Trainer: [####################] 100%\n"
     ]
    }
   ],
   "source": [
    "from chatterbot.trainers import ListTrainer\n",
    "trainer=ListTrainer(cbot)\n",
    "trainer.train(['hi',\n",
    "               'how are you ?',\n",
    "              \"1t\",\n",
    "              \"trigger transaction 1 \\n what is your query- \\n 1. the food is not fresh \\n 2. the delivered amount is less than the required amount \\n 3. i got the wrong order \\n 4. the customer care number\\n\",\n",
    "              \"2t\",\n",
    "              \"trigger transaction 2 \\n what is your query- \\n 1. the food is not fresh \\n 2. the delivered amount is less than the required amount \\n 3. i got the wrong order \\n 4. the customer care number\\n\",\n",
    "              \"3t\",\n",
    "              \"trigger tarnsaction 3 \\n what is your query- \\n 1. the food is not fresh \\n 2. the delivered amount is less than the required amount \\n 3. i got the wrong order \\n 4. the customer care number\\n\",\n",
    "              \"1NFF\",\n",
    "              \"trigger food_not_fresh \\nvisit order cancellation window or customer care\",\n",
    "              \"2NSF\",\n",
    "              \"trigger insufficient_amount \\nvisit order cancellation window or customer care\",\n",
    "              \"3NCF\",\n",
    "              \"trigger wrong_delievery \\nvisit order cancellation window or customer care\",\n",
    "              \"4LDF\",\n",
    "              \"trigger late_delievery \\nvisit order cancellation window or customer care\",\n",
    "              \"4n\",\n",
    "              \"the customer care number is: 132563767\"])"
   ]
  },
  {
   "cell_type": "code",
   "execution_count": 14,
   "metadata": {},
   "outputs": [
    {
     "name": "stdout",
     "output_type": "stream",
     "text": [
      "hi\n",
      "cbot:-  How are you doing?\n",
      "i have a issue\n",
      "cbot:-  select any one of the following options-\n",
      " 1.transaction number 1 \n",
      " 2.transaction number 2 \n",
      " 3.transaction number 3\n",
      "1\n",
      "cbot:-  trigger transaction 1\n",
      "2\n",
      "cbot:-  trigger insufficient_amount\n",
      "i have a big poblem\n",
      "cbot:-  1) after having installed ubuntu on a pc, at \"grub.time\" after having chosen ubuntu's entries, it gives and error about stage1/stage2\n",
      "i have a complaint regarding this\n",
      "cbot:-  select any one of the following options-\n",
      " 1.transaction number 1 \n",
      " 2.transaction number 2 \n",
      " 3.transaction number 3\n",
      "\n"
     ]
    }
   ],
   "source": [
    "import chatterbot\n",
    "count=0\n",
    "while(True):\n",
    "    try:\n",
    "        i=input()\n",
    "        if(count==0 and i==\"1\"):\n",
    "            s=\"1t\"#transcation1 trigger\n",
    "            print(\"cbot:- \",cbot.get_response(s))\n",
    "            count+=1\n",
    "        elif(count==0 and i==\"2\"):\n",
    "            s=\"2t\"\n",
    "            print('cbot:- ',cbot.get_response(s))\n",
    "            count+=1\n",
    "        elif(count==0 and i==\"3\"):\n",
    "            s=\"3t\"\n",
    "            print('cbot:- ',cbot.get_response(s))\n",
    "            count+=1\n",
    "        elif(count==0 and i=='4'):\n",
    "            s='4n'\n",
    "            print('cbot:- ',cbot.get_response(s))\n",
    "        elif(count==1 and i==\"1\"):\n",
    "            s=\"1NFF\"#food not fresh\n",
    "            print('cbot:- ',cbot.get_response(s))\n",
    "            count=0\n",
    "        elif(count==1 and i==\"2\"):\n",
    "            s=\"2NSF\"#less tahn ordered amount\n",
    "            print('cbot:- ',cbot.get_response(s))\n",
    "            count=0\n",
    "        elif(count==1 and i==\"3\"):\n",
    "            s=\"3NCF\"#wrong order\n",
    "            print('cbot:- ',cbot.get_response(s))\n",
    "            count=0\n",
    "        elif(count==1 and i==\"4\"):\n",
    "            s=\"4LDF\"#late delievery\n",
    "            print('cbot:- ',cbot.get_response(s))\n",
    "            count=0\n",
    "        else:\n",
    "            print(\"cbot:- \",cbot.get_response(i))\n",
    "    except(KeyboardInterrupt,SystemExit):\n",
    "        break"
   ]
  }
 ],
 "metadata": {
  "kernelspec": {
   "display_name": "Python 3",
   "language": "python",
   "name": "python3"
  },
  "language_info": {
   "codemirror_mode": {
    "name": "ipython",
    "version": 3
   },
   "file_extension": ".py",
   "mimetype": "text/x-python",
   "name": "python",
   "nbconvert_exporter": "python",
   "pygments_lexer": "ipython3",
   "version": "3.7.6"
  }
 },
 "nbformat": 4,
 "nbformat_minor": 2
}
